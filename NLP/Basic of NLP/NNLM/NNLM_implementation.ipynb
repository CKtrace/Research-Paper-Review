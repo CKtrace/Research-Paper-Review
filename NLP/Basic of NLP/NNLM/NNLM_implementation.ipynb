{
 "cells": [
  {
   "cell_type": "code",
   "execution_count": 1,
   "id": "ce2f1e96-3739-4963-8859-626b2d7c8d50",
   "metadata": {},
   "outputs": [],
   "source": [
    "import torch\n",
    "import torch.nn as nn\n",
    "import torch.optim as optim"
   ]
  },
  {
   "cell_type": "markdown",
   "id": "8e2c294c-d45e-4eec-b2f8-ebe7a8277a0b",
   "metadata": {},
   "source": [
    "## Creating Batch according to the set Batch Size"
   ]
  },
  {
   "cell_type": "code",
   "execution_count": 2,
   "id": "f3a0f4f2-cb77-43ee-9f19-dc34a97fa539",
   "metadata": {},
   "outputs": [],
   "source": [
    "def make_batch():\n",
    "    input_batch = []\n",
    "    target_batch = []\n",
    "\n",
    "    for sen in sentences:\n",
    "        word = sen.split()\n",
    "        input = [word_dict[n] for n in word[:-1]]\n",
    "        target = word_dict[word[-1]]\n",
    "\n",
    "        input_batch.append(input)\n",
    "        target_batch.append(target)\n",
    "\n",
    "    return input_batch, target_batch"
   ]
  },
  {
   "cell_type": "markdown",
   "id": "51d3a955-e0a9-4b1f-81ef-754ceb38497e",
   "metadata": {},
   "source": [
    "## NNLM Model Structure"
   ]
  },
  {
   "cell_type": "code",
   "execution_count": 3,
   "id": "abf69a75-004b-4211-945f-cefec6429719",
   "metadata": {},
   "outputs": [],
   "source": [
    "class NNLM(nn.Module):\n",
    "    def __init__(self):\n",
    "        super(NNLM, self).__init__()\n",
    "        self.C = nn.Embedding(n_class, m)\n",
    "        self.H = nn.Linear(n_step*m, n_hidden, bias=False)\n",
    "        self.d = nn.Parameter(torch.ones(n_hidden))\n",
    "        self.U = nn.Linear(n_hidden, n_class, bias=False)\n",
    "        self.W = nn.Linear(n_step*m, n_class, bias=False)\n",
    "        self.b = nn.Parameter(torch.ones(n_class))\n",
    "\n",
    "    def forward(self, X):\n",
    "        X = self.C(X)\n",
    "        X = X.view(-1, n_step * m)\n",
    "        tanh = torch.tanh(self.d + self.H(X))\n",
    "        output = self.b + self.W(X) + self.U(tanh)\n",
    "        return output"
   ]
  },
  {
   "cell_type": "markdown",
   "id": "669e877b-58c7-4feb-8007-2c2af3726e6d",
   "metadata": {},
   "source": [
    "## Prediction"
   ]
  },
  {
   "cell_type": "code",
   "execution_count": 4,
   "id": "9aa9722b-577f-478d-b177-29399dd0707b",
   "metadata": {},
   "outputs": [
    {
     "name": "stdout",
     "output_type": "stream",
     "text": [
      "NNLM(\n",
      "  (C): Embedding(11, 2)\n",
      "  (H): Linear(in_features=4, out_features=2, bias=False)\n",
      "  (U): Linear(in_features=2, out_features=11, bias=False)\n",
      "  (W): Linear(in_features=4, out_features=11, bias=False)\n",
      ")\n",
      "--------------------------------------------------\n",
      "Word Dictionary : {'inject': 0, 'hate': 1, 'like': 2, 'coffee': 3, 'love': 4, 'cat': 5, 'caffeine': 6, 'i': 7, 'milk': 8, 'dog': 9, 'see': 10}\n",
      "--------------------------------------------------\n",
      "Number Dictionary : {0: 'inject', 1: 'hate', 2: 'like', 3: 'coffee', 4: 'love', 5: 'cat', 6: 'caffeine', 7: 'i', 8: 'milk', 9: 'dog', 10: 'see'}\n",
      "--------------------------------------------------\n",
      "Number of Class : 11\n",
      "--------------------------------------------------\n",
      "Epoch: 1000 cost = 0.190615\n",
      "Epoch: 2000 cost = 0.034957\n",
      "Epoch: 3000 cost = 0.012635\n",
      "Epoch: 4000 cost = 0.005818\n",
      "Epoch: 5000 cost = 0.002975\n",
      "--------------------------------------------------\n",
      "[['i', 'like'], ['i', 'love'], ['i', 'hate'], ['i', 'see'], ['i', 'inject']] -> ['dog', 'coffee', 'milk', 'cat', 'caffeine']\n"
     ]
    }
   ],
   "source": [
    "sentences = ['i like dog', 'i love coffee', 'i hate milk', 'i see cat', 'i inject caffeine']\n",
    "\n",
    "word_list = \" \".join(sentences[:]).split()\n",
    "word_list = list(set(word_list))\n",
    "word_dict = {w: i for i, w in enumerate(word_list)}\n",
    "number_dict = {i: w for i, w in enumerate(word_list)}\n",
    "n_class = len(word_dict)\n",
    "\n",
    "n_step = 2\n",
    "n_hidden = 2\n",
    "m = 2\n",
    "\n",
    "model = NNLM()\n",
    "print(NNLM())\n",
    "print('-' * 50)\n",
    "print(f\"Word Dictionary : {word_dict}\")\n",
    "print('-' * 50)\n",
    "print(f\"Number Dictionary : {number_dict}\")\n",
    "print('-' * 50)\n",
    "print(f\"Number of Class : {n_class}\")\n",
    "print('-' * 50)\n",
    "\n",
    "model = NNLM()\n",
    "\n",
    "criterion = nn.CrossEntropyLoss()\n",
    "optimizer = optim.Adam(model.parameters(), lr=0.001)\n",
    "\n",
    "input_batch, target_batch = make_batch()\n",
    "input_batch = torch.LongTensor(input_batch)\n",
    "target_batch = torch.LongTensor(target_batch)\n",
    "\n",
    "\n",
    "\n",
    "for epoch in range(5000):\n",
    "    optimizer.zero_grad()\n",
    "    output = model(input_batch)\n",
    "\n",
    "    loss = criterion(output, target_batch)\n",
    "    if (epoch + 1) % 1000 == 0:\n",
    "        print('Epoch:', '%04d' % (epoch + 1), 'cost =', '{:.6f}'.format(loss))\n",
    "\n",
    "    loss.backward()\n",
    "    optimizer.step()\n",
    "\n",
    "predict = model(input_batch).data.max(1, keepdim=True)[1]\n",
    "\n",
    "print('-' * 50)\n",
    "print([sen.split()[:2] for sen in sentences], '->', [number_dict[n.item()] for n in predict.squeeze()])"
   ]
  }
 ],
 "metadata": {
  "kernelspec": {
   "display_name": "llm_fine",
   "language": "python",
   "name": "llm_fine"
  },
  "language_info": {
   "codemirror_mode": {
    "name": "ipython",
    "version": 3
   },
   "file_extension": ".py",
   "mimetype": "text/x-python",
   "name": "python",
   "nbconvert_exporter": "python",
   "pygments_lexer": "ipython3",
   "version": "3.11.9"
  }
 },
 "nbformat": 4,
 "nbformat_minor": 5
}
