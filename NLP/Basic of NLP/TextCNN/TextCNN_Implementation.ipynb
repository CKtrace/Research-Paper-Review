{
 "cells": [
  {
   "cell_type": "markdown",
   "id": "f4c1f5e6-6f8f-4fef-9506-8bc54c359e43",
   "metadata": {},
   "source": [
    "# TextCNN Modeling"
   ]
  },
  {
   "cell_type": "code",
   "execution_count": 15,
   "id": "c7dc8568-a135-4964-9179-5c32d815da4f",
   "metadata": {},
   "outputs": [],
   "source": [
    "import torch\n",
    "import torch.nn as nn\n",
    "import numpy as np\n",
    "import torch.optim as optim\n",
    "import torch.nn.functional as F\n",
    "\n",
    "class TextCNN(nn.Module):\n",
    "    def __init__(self):\n",
    "        super(TextCNN, self).__init__()\n",
    "        self.num_filters_total = num_filters * len(filter_sizes)\n",
    "        self.W = nn.Embedding(vocab_size, embedding_size)\n",
    "        self.Weight = nn.Linear(self.num_filters_total, num_classes, bias=False)\n",
    "        self.Bias = nn.Parameter(torch.ones([num_classes]))\n",
    "        self.filter_list = nn.ModuleList([nn.Conv2d(1, num_filters, (size, embedding_size)) for size in filter_sizes])\n",
    "    def forward(self, X):\n",
    "        embedded_chars = self.W(X)\n",
    "        embedded_chars = embedded_chars.unsqueeze(1)\n",
    "\n",
    "        pooled_outputs = []\n",
    "\n",
    "        for i, conv in enumerate(self.filter_list):\n",
    "            h = F.relu(conv(embedded_chars))\n",
    "            mp = nn.MaxPool2d((sequence_length-filter_sizes[i] + 1, 1))\n",
    "            pooled = mp(h).permute(0, 3, 2, 1)\n",
    "            pooled_outputs.append(pooled)\n",
    "\n",
    "        h_pool = torch.cat(pooled_outputs, len(filter_sizes))\n",
    "        h_pool_flat = torch.reshape(h_pool, [-1, self.num_filters_total])\n",
    "        model = self.Weight(h_pool_flat) + self.Bias\n",
    "        return model"
   ]
  },
  {
   "cell_type": "markdown",
   "id": "8e1d0ca0-1216-4916-b741-e55147109202",
   "metadata": {},
   "source": [
    "## TextCNN Training"
   ]
  },
  {
   "cell_type": "code",
   "execution_count": 18,
   "id": "67830842-30a2-45fb-8fb8-8dfb9cb97b74",
   "metadata": {},
   "outputs": [
    {
     "name": "stdout",
     "output_type": "stream",
     "text": [
      "Epoch : 0 | Cost : 0.751349\n",
      "Epoch : 1000 | Cost : 0.000035\n",
      "Epoch : 2000 | Cost : 0.000008\n",
      "Epoch : 3000 | Cost : 0.000003\n",
      "Epoch : 4000 | Cost : 0.000001\n",
      "sorry hate you is Bad Mean...\n"
     ]
    }
   ],
   "source": [
    "embdding_size = 2\n",
    "sequence_length = 3\n",
    "num_classes = 2\n",
    "filter_sizes = [2, 2, 2]\n",
    "num_filters = 3\n",
    "\n",
    "sentences = [\"i love you\", \"he loves me\", \"she likes baseball\", \"i hate you\", \"sorry for that\", \"this is awful\"]\n",
    "labels = [1, 1, 1, 0, 0, 0]\n",
    "word_list = \" \".join(sentences).split()\n",
    "word_list = list(set(word_list))\n",
    "word_dict = {w: i for i, w in enumerate(word_list)}\n",
    "vocab_size = len(word_dict)\n",
    "\n",
    "model = TextCNN()\n",
    "\n",
    "criterion = nn.CrossEntropyLoss()\n",
    "optimizer = optim.Adam(model.parameters(), lr = 0.01)\n",
    "\n",
    "inputs = torch.LongTensor([np.asarray([word_dict[n] for n in sen.split()]) for sen in sentences])\n",
    "targets = torch.LongTensor([out for out in labels])\n",
    "\n",
    "for epoch in range(5000):\n",
    "    optimizer.zero_grad()\n",
    "    output = model(inputs)\n",
    "\n",
    "    loss = criterion(output, targets)\n",
    "    if (epoch) % 1000 == 0:\n",
    "        print(f\"Epoch : {epoch} | Cost : {'{:.6f}'.format(loss)}\")\n",
    "    loss.backward()\n",
    "    optimizer.step()\n",
    "\n",
    "test_text = 'sorry hate you'\n",
    "tests = [np.asarray([word_dict[n] for n in test_text.split()])]\n",
    "test_batch = torch.LongTensor(tests)\n",
    "\n",
    "# Predict\n",
    "predict = model(test_batch).data.max(1, keepdim=True)[1]\n",
    "if predict[0][0] == 0:\n",
    "    print(test_text,\"is Bad Mean...\")\n",
    "else:\n",
    "    print(test_text,\"is Good Mean!!\")"
   ]
  }
 ],
 "metadata": {
  "kernelspec": {
   "display_name": "llm_fine",
   "language": "python",
   "name": "llm_fine"
  },
  "language_info": {
   "codemirror_mode": {
    "name": "ipython",
    "version": 3
   },
   "file_extension": ".py",
   "mimetype": "text/x-python",
   "name": "python",
   "nbconvert_exporter": "python",
   "pygments_lexer": "ipython3",
   "version": "3.11.9"
  }
 },
 "nbformat": 4,
 "nbformat_minor": 5
}
